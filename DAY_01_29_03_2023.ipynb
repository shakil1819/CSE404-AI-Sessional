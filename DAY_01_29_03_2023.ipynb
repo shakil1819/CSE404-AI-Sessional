{
  "nbformat": 4,
  "nbformat_minor": 0,
  "metadata": {
    "colab": {
      "provenance": [],
      "authorship_tag": "ABX9TyOYiprqInXtHI+I9mY0Cxh5",
      "include_colab_link": true
    },
    "kernelspec": {
      "name": "python3",
      "display_name": "Python 3"
    },
    "language_info": {
      "name": "python"
    }
  },
  "cells": [
    {
      "cell_type": "markdown",
      "metadata": {
        "id": "view-in-github",
        "colab_type": "text"
      },
      "source": [
        "<a href=\"https://colab.research.google.com/github/shakil1819/CSE404-AI-Sessional/blob/main/DAY_01_29_03_2023.ipynb\" target=\"_parent\"><img src=\"https://colab.research.google.com/assets/colab-badge.svg\" alt=\"Open In Colab\"/></a>"
      ]
    },
    {
      "cell_type": "code",
      "source": [
        "from google.colab import drive\n",
        "drive.mount('/content/drive')"
      ],
      "metadata": {
        "colab": {
          "base_uri": "https://localhost:8080/"
        },
        "id": "d54FAluybbgq",
        "outputId": "3494da5e-7c3e-4ba6-dd30-48a1722b84ad"
      },
      "execution_count": 4,
      "outputs": [
        {
          "output_type": "stream",
          "name": "stdout",
          "text": [
            "Drive already mounted at /content/drive; to attempt to forcibly remount, call drive.mount(\"/content/drive\", force_remount=True).\n"
          ]
        }
      ]
    },
    {
      "cell_type": "markdown",
      "source": [
        "* Load file\n",
        "* preprocessing\n",
        "* train-test split\n",
        "* model train\n",
        "* predict\n",
        "* evaluation\n",
        "\n",
        "\n",
        "\n",
        "\n",
        "\n"
      ],
      "metadata": {
        "id": "zuN8kaFQea47"
      }
    },
    {
      "cell_type": "code",
      "source": [
        "import numpy as np\n",
        "import pandas as pd\n",
        "from sklearn import preprocessing\n",
        "from sklearn.model_selection import train_test_split\n",
        "\n",
        "from sklearn.linear_model import LogisticRegression\n",
        "\n",
        "from sklearn import metrics"
      ],
      "metadata": {
        "id": "JkajWP6Fbphh"
      },
      "execution_count": 5,
      "outputs": []
    },
    {
      "cell_type": "code",
      "source": [
        "#load file\n",
        "play_data = pd.read_csv('/content/drive/MyDrive/CSE404- AI-Sessional/Play - Play.csv')"
      ],
      "metadata": {
        "id": "GxkcnKE9bqYR"
      },
      "execution_count": 7,
      "outputs": []
    },
    {
      "cell_type": "code",
      "source": [
        "#data visualization\n",
        "play_data.head()\n",
        "play_data.isnull().sum()\n",
        "\n"
      ],
      "metadata": {
        "id": "k8JCL2uWcz_y",
        "colab": {
          "base_uri": "https://localhost:8080/"
        },
        "outputId": "debf04a7-abc7-436d-c7db-b23a8d2d5cf8"
      },
      "execution_count": 8,
      "outputs": [
        {
          "output_type": "execute_result",
          "data": {
            "text/plain": [
              "Weather    0\n",
              "Temp       0\n",
              "Play       0\n",
              "dtype: int64"
            ]
          },
          "metadata": {},
          "execution_count": 8
        }
      ]
    },
    {
      "cell_type": "code",
      "source": [
        "#preprocessing\n",
        "le = preprocessing.LabelEncoder()\n",
        "\n",
        "weather_encoder = le.fit_transform(play_data['Weather'])\n",
        "temp_encoder=le.fit_transform(play_data['Temp'])\n",
        "play_encoder=le.fit_transform(play_data['Play'])"
      ],
      "metadata": {
        "id": "BZOveXBDeGw7"
      },
      "execution_count": 17,
      "outputs": []
    },
    {
      "cell_type": "code",
      "source": [
        "weather_encoder\n"
      ],
      "metadata": {
        "colab": {
          "base_uri": "https://localhost:8080/"
        },
        "id": "0BI0q67oel8t",
        "outputId": "f24e5fa1-f57c-47dc-aaa8-ba15f905d148"
      },
      "execution_count": 19,
      "outputs": [
        {
          "output_type": "execute_result",
          "data": {
            "text/plain": [
              "array([2, 2, 0, 1, 1, 1, 0, 2, 2, 1, 2, 0, 0, 2])"
            ]
          },
          "metadata": {},
          "execution_count": 19
        }
      ]
    },
    {
      "cell_type": "code",
      "source": [
        "play_data.columns #eta dekhe amra check kortesi je kon column er name ki, ekhan theke copy kore upore dile thikmoto kaj korbe"
      ],
      "metadata": {
        "colab": {
          "base_uri": "https://localhost:8080/"
        },
        "id": "Z49GaGbjfJBJ",
        "outputId": "483160b4-f8ba-416c-fb44-d2ea84c7db80"
      },
      "execution_count": 12,
      "outputs": [
        {
          "output_type": "execute_result",
          "data": {
            "text/plain": [
              "Index(['Weather', 'Temp', 'Play'], dtype='object')"
            ]
          },
          "metadata": {},
          "execution_count": 12
        }
      ]
    }
  ]
}