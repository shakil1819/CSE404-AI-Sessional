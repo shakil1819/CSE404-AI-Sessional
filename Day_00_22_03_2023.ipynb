{
  "nbformat": 4,
  "nbformat_minor": 0,
  "metadata": {
    "colab": {
      "provenance": [],
      "authorship_tag": "ABX9TyO1U1JESQhbHUL79nsrPJKH",
      "include_colab_link": true
    },
    "kernelspec": {
      "name": "python3",
      "display_name": "Python 3"
    },
    "language_info": {
      "name": "python"
    },
    "accelerator": "GPU",
    "gpuClass": "standard"
  },
  "cells": [
    {
      "cell_type": "markdown",
      "metadata": {
        "id": "view-in-github",
        "colab_type": "text"
      },
      "source": [
        "<a href=\"https://colab.research.google.com/github/shakil1819/CSE404-AI-Sessional/blob/main/Day_00_22_03_2023.ipynb\" target=\"_parent\"><img src=\"https://colab.research.google.com/assets/colab-badge.svg\" alt=\"Open In Colab\"/></a>"
      ]
    },
    {
      "cell_type": "markdown",
      "source": [
        "`Notes`\n",
        " \n",
        " -  Supervised Learning -> Labeled Data\n",
        " \n",
        " -  Unsupervised Learning -> Unlabeled Data\n",
        " \n",
        " -  Hybrid Model that includes Supervised and unsupervised Learning\n",
        "\n",
        "\n",
        "\n",
        "# Classification vs regression\n",
        "\n",
        "Classification and regression are two fundamental types of problems in machine learning that involve predicting an outcome based on input data.\n",
        "\n",
        "In classification problems, the goal is to predict a discrete category or label for a given input. For example, a classification model could predict whether an email is spam or not based on its content, or whether a patient has a certain medical condition based on their symptoms. Classification algorithms typically output a probability or confidence score for each possible label, and choose the label with the highest score as the prediction.\n",
        "\n",
        "In regression problems, the goal is to predict a continuous numerical value for a given input. For example, a regression model could predict the price of a house based on its size, location, and other features. Regression algorithms typically output a single numerical value as the prediction.\n",
        "\n",
        "The main difference between classification and regression is the type of output that the model produces. Classification models produce discrete labels or categories, while regression models produce continuous numerical values. The choice of which type of problem to use depends on the nature of the data and the specific goal of the prediction task."
      ],
      "metadata": {
        "id": "KKrys0nJgDuI"
      }
    },
    {
      "cell_type": "code",
      "execution_count": 1,
      "metadata": {
        "id": "B6BfOfERIeTb"
      },
      "outputs": [],
      "source": [
        "import pandas as pd\n",
        "#Testing commit checks"
      ]
    },
    {
      "cell_type": "code",
      "source": [
        "from google.colab import drive\n",
        "drive.mount('/content/drive')"
      ],
      "metadata": {
        "colab": {
          "base_uri": "https://localhost:8080/"
        },
        "id": "Auic5OsDipeg",
        "outputId": "d30d3e65-af52-41ac-b1f4-673ccc126f18"
      },
      "execution_count": 2,
      "outputs": [
        {
          "output_type": "stream",
          "name": "stdout",
          "text": [
            "Mounted at /content/drive\n"
          ]
        }
      ]
    },
    {
      "cell_type": "markdown",
      "source": [
        "# Music Recommendation Problem\n"
      ],
      "metadata": {
        "id": "ZBVWk-vdk0Mx"
      }
    },
    {
      "cell_type": "code",
      "source": [
        "import pandas as pd\n",
        "from sklearn.tree import DecisionTreeClassifier\n",
        "\n",
        "music_data=pd.read_csv('/content/drive/MyDrive/CSE404- AI-Sessional/music.csv')\n",
        "music_data\n",
        "X=music_data.drop(columns=['genre'])\n",
        "y=music_data['genre']\n",
        "\n",
        "model=DecisionTreeClassifier()\n",
        "model.fit(X,y)\n",
        "\n",
        "predictions = model.predict( [ [100,4],[22,0],[50,0] ] )\n",
        "predictions"
      ],
      "metadata": {
        "colab": {
          "base_uri": "https://localhost:8080/"
        },
        "id": "PMmY7OabjyjJ",
        "outputId": "1fc2ed90-2825-4426-b8bb-e3719cfc0560"
      },
      "execution_count": 8,
      "outputs": [
        {
          "output_type": "stream",
          "name": "stderr",
          "text": [
            "/usr/local/lib/python3.9/dist-packages/sklearn/base.py:439: UserWarning: X does not have valid feature names, but DecisionTreeClassifier was fitted with feature names\n",
            "  warnings.warn(\n"
          ]
        },
        {
          "output_type": "execute_result",
          "data": {
            "text/plain": [
              "array(['Classical', 'Dance', 'Classical'], dtype=object)"
            ]
          },
          "metadata": {},
          "execution_count": 8
        }
      ]
    }
  ]
}