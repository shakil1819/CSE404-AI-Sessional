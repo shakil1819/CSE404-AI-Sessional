{
  "nbformat": 4,
  "nbformat_minor": 0,
  "metadata": {
    "colab": {
      "provenance": [],
      "authorship_tag": "ABX9TyPO6HtJF9IJlxeiL3bUWjyk",
      "include_colab_link": true
    },
    "kernelspec": {
      "name": "python3",
      "display_name": "Python 3"
    },
    "language_info": {
      "name": "python"
    }
  },
  "cells": [
    {
      "cell_type": "markdown",
      "metadata": {
        "id": "view-in-github",
        "colab_type": "text"
      },
      "source": [
        "<a href=\"https://colab.research.google.com/github/shakil1819/CSE404-AI-Sessional/blob/main/Day_00_22_03_2023.ipynb\" target=\"_parent\"><img src=\"https://colab.research.google.com/assets/colab-badge.svg\" alt=\"Open In Colab\"/></a>"
      ]
    },
    {
      "cell_type": "markdown",
      "source": [
        "`Notes`\n",
        " \n",
        " -  Supervised Learning -> Labeled Data\n",
        " \n",
        " -  Unsupervised Learning -> Unlabeled Data\n",
        " \n",
        " -  Hybrid Model that includes Supervised and unsupervised Learning\n",
        "\n",
        "\n",
        "\n",
        "# Classification vs regression\n",
        "\n",
        "Classification and regression are two fundamental types of problems in machine learning that involve predicting an outcome based on input data.\n",
        "\n",
        "In classification problems, the goal is to predict a discrete category or label for a given input. For example, a classification model could predict whether an email is spam or not based on its content, or whether a patient has a certain medical condition based on their symptoms. Classification algorithms typically output a probability or confidence score for each possible label, and choose the label with the highest score as the prediction.\n",
        "\n",
        "In regression problems, the goal is to predict a continuous numerical value for a given input. For example, a regression model could predict the price of a house based on its size, location, and other features. Regression algorithms typically output a single numerical value as the prediction.\n",
        "\n",
        "The main difference between classification and regression is the type of output that the model produces. Classification models produce discrete labels or categories, while regression models produce continuous numerical values. The choice of which type of problem to use depends on the nature of the data and the specific goal of the prediction task."
      ],
      "metadata": {
        "id": "KKrys0nJgDuI"
      }
    },
    {
      "cell_type": "code",
      "execution_count": 2,
      "metadata": {
        "id": "B6BfOfERIeTb"
      },
      "outputs": [],
      "source": [
        "import pandas as pd\n",
        "#Testing commit checks"
      ]
    },
    {
      "cell_type": "code",
      "source": [
        "from google.colab import drive\n",
        "drive.mount('/content/drive')"
      ],
      "metadata": {
        "colab": {
          "base_uri": "https://localhost:8080/"
        },
        "id": "Auic5OsDipeg",
        "outputId": "39ce3a81-a70d-4e88-d06d-bb7988fa11ed"
      },
      "execution_count": 3,
      "outputs": [
        {
          "output_type": "stream",
          "name": "stdout",
          "text": [
            "Mounted at /content/drive\n"
          ]
        }
      ]
    }
  ]
}