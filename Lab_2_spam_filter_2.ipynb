{
  "cells": [
    {
      "cell_type": "markdown",
      "metadata": {
        "id": "view-in-github",
        "colab_type": "text"
      },
      "source": [
        "<a href=\"https://colab.research.google.com/github/shakil1819/CSE404-AI-Sessional/blob/main/Lab_2_spam_filter_2.ipynb\" target=\"_parent\"><img src=\"https://colab.research.google.com/assets/colab-badge.svg\" alt=\"Open In Colab\"/></a>"
      ]
    },
    {
      "cell_type": "code",
      "execution_count": null,
      "metadata": {
        "colab": {
          "background_save": true
        },
        "id": "XTIAVCM6mQe6"
      },
      "outputs": [],
      "source": [
        "import pandas as pd \n",
        "import numpy as np\n",
        "\n",
        "from sklearn import preprocessing \n",
        "from sklearn.feature_extraction.text import CountVectorizer\n",
        "\n",
        "from sklearn.model_selection import train_test_split \n",
        "\n",
        "from sklearn.naive_bayes import MultinomialNB\n",
        "\n",
        "from sklearn import metrics"
      ]
    },
    {
      "cell_type": "code",
      "execution_count": null,
      "metadata": {
        "id": "OFl1z_DyoJMJ"
      },
      "outputs": [],
      "source": [
        "# Load File \n",
        "spam_data= pd.read_csv('/content/drive/MyDrive/AILab/spam.csv')"
      ]
    },
    {
      "cell_type": "code",
      "execution_count": null,
      "metadata": {
        "id": "99xU6yhMoLSA"
      },
      "outputs": [],
      "source": [
        "# data visualization \n",
        "spam_data.head()\n"
      ]
    },
    {
      "cell_type": "code",
      "execution_count": null,
      "metadata": {
        "id": "KGlJIwrPoSpP"
      },
      "outputs": [],
      "source": [
        "spam_data.isnull().sum()"
      ]
    },
    {
      "cell_type": "code",
      "execution_count": null,
      "metadata": {
        "id": "GDT1441kpecP"
      },
      "outputs": [],
      "source": [
        "#Preprocessing \n",
        "le= preprocessing.LabelEncoder()\n",
        "\n",
        "y= le.fit_transform(spam_data['Category'])\n"
      ]
    },
    {
      "cell_type": "code",
      "execution_count": null,
      "metadata": {
        "id": "I4koV3OUzADq"
      },
      "outputs": [],
      "source": [
        "# train test split \n",
        "X= spam_data['Message']\n",
        "X_train, X_test, y_train, y_test= train_test_split (X, y, test_size=0.2)\n"
      ]
    },
    {
      "cell_type": "code",
      "execution_count": null,
      "metadata": {
        "id": "noh6iS1NzoIZ"
      },
      "outputs": [],
      "source": [
        "# preprocessing X_train \n",
        "cv=CountVectorizer()\n",
        "X_train_encoder= cv.fit_transform(X_train.values)\n",
        "\n"
      ]
    },
    {
      "cell_type": "code",
      "execution_count": null,
      "metadata": {
        "id": "PrgVPTDL1FMh"
      },
      "outputs": [],
      "source": [
        "# Model train\n",
        "nb= MultinomialNB()\n",
        "nb.fit(X_train_encoder, y_train)"
      ]
    },
    {
      "cell_type": "code",
      "execution_count": null,
      "metadata": {
        "id": "YuyVafs61eHC"
      },
      "outputs": [],
      "source": [
        "# preprocessing X_test\n",
        "X_test_encoder= cv.transform(X_test.values)\n",
        "#predict\n",
        "y_pred= nb.predict(X_test_encoder)"
      ]
    },
    {
      "cell_type": "code",
      "execution_count": null,
      "metadata": {
        "colab": {
          "base_uri": "https://localhost:8080/"
        },
        "id": "vTUsF8BK18SB",
        "outputId": "29507ed0-c680-43bb-8791-11b0f096adb4"
      },
      "outputs": [
        {
          "data": {
            "text/plain": [
              "0.9820627802690582"
            ]
          },
          "execution_count": 29,
          "metadata": {},
          "output_type": "execute_result"
        }
      ],
      "source": [
        "#Evaluation \n",
        "metrics.accuracy_score(y_pred, y_test)"
      ]
    },
    {
      "cell_type": "code",
      "execution_count": null,
      "metadata": {
        "colab": {
          "base_uri": "https://localhost:8080/"
        },
        "id": "vN_nvF7c5SFa",
        "outputId": "df2e1518-2fb4-4c02-c2b3-f1e45c9155c6"
      },
      "outputs": [
        {
          "data": {
            "text/plain": [
              "array([\"Yeah I should be able to, I'll text you when I'm ready to meet up\",\n",
              "       'Really good:)dhanush rocks once again:)',\n",
              "       'Good Morning my Dear........... Have a great &amp; successful day.',\n",
              "       ..., 'WOT U UP 2 J?', 'Why you keeping me away like this',\n",
              "       \"Will do, you gonna be at blake's all night? I might be able to get out of here a little early\"],\n",
              "      dtype=object)"
            ]
          },
          "execution_count": 33,
          "metadata": {},
          "output_type": "execute_result"
        }
      ],
      "source": [
        "X_train.values"
      ]
    }
  ],
  "metadata": {
    "colab": {
      "provenance": [],
      "include_colab_link": true
    },
    "kernelspec": {
      "display_name": "Python 3",
      "name": "python3"
    },
    "language_info": {
      "name": "python"
    }
  },
  "nbformat": 4,
  "nbformat_minor": 0
}