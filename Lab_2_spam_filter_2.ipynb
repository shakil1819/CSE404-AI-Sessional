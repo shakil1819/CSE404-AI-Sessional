{
  "nbformat": 4,
  "nbformat_minor": 0,
  "metadata": {
    "colab": {
      "provenance": [],
      "authorship_tag": "ABX9TyNtzGoYV7rgNawvZfKKIdCa",
      "include_colab_link": true
    },
    "kernelspec": {
      "name": "python3",
      "display_name": "Python 3"
    },
    "language_info": {
      "name": "python"
    }
  },
  "cells": [
    {
      "cell_type": "markdown",
      "metadata": {
        "id": "view-in-github",
        "colab_type": "text"
      },
      "source": [
        "<a href=\"https://colab.research.google.com/github/shakil1819/CSE404-AI-Sessional/blob/main/Lab_2_spam_filter_2.ipynb\" target=\"_parent\"><img src=\"https://colab.research.google.com/assets/colab-badge.svg\" alt=\"Open In Colab\"/></a>"
      ]
    },
    {
      "cell_type": "code",
      "execution_count": null,
      "metadata": {
        "id": "0pkoLtyfmyLN",
        "colab": {
          "base_uri": "https://localhost:8080/"
        },
        "outputId": "dee559c3-53bf-4fe1-95db-e38799a382b3"
      },
      "outputs": [
        {
          "output_type": "stream",
          "name": "stdout",
          "text": [
            "Drive already mounted at /content/drive; to attempt to forcibly remount, call drive.mount(\"/content/drive\", force_remount=True).\n"
          ]
        }
      ],
      "source": [
        "from google.colab import drive\n",
        "drive.mount('/content/drive')"
      ]
    },
    {
      "cell_type": "code",
      "source": [
        "import numpy as np\n",
        "import pandas as pd\n",
        "from sklearn import preprocessing\n",
        "from sklearn.feature_extraction.text import CountVectorizer\n",
        "from sklearn.model_selection import train_test_split\n",
        "\n",
        "from sklearn.linear_model import LogisticRegression\n",
        "from sklearn.naive_bayes import MultinomialNB\n",
        "\n",
        "from sklearn import metrics"
      ],
      "metadata": {
        "id": "Ak7skZbXnjPJ"
      },
      "execution_count": null,
      "outputs": []
    },
    {
      "cell_type": "code",
      "source": [
        "#load file\n",
        "spam_data = pd.read_csv('/content/drive/MyDrive/CSE404- AI-Sessional/spam - spam - spam - spam.csv')"
      ],
      "metadata": {
        "id": "MWSvq0jCoUtg"
      },
      "execution_count": null,
      "outputs": []
    },
    {
      "cell_type": "code",
      "source": [
        "#data visualization\n",
        "spam_data.head()\n",
        "spam_data.isnull().sum()\n",
        "spam_data"
      ],
      "metadata": {
        "id": "rYp_pTunoXNg"
      },
      "execution_count": null,
      "outputs": []
    },
    {
      "cell_type": "code",
      "source": [
        "#preprocessing\n",
        "le = preprocessing.LabelEncoder()\n",
        "y_encoder = le.fit_transform(spam_data['Category'])"
      ],
      "metadata": {
        "id": "cvv3Gd9XoZpI"
      },
      "execution_count": null,
      "outputs": []
    },
    {
      "cell_type": "code",
      "source": [
        "cv= CountVectorizer()"
      ],
      "metadata": {
        "id": "Ojsfk2W6zCVh"
      },
      "execution_count": null,
      "outputs": []
    },
    {
      "cell_type": "code",
      "source": [],
      "metadata": {
        "id": "W3zDY2wFzKph"
      },
      "execution_count": null,
      "outputs": []
    },
    {
      "cell_type": "code",
      "source": [
        "spam_data.columns"
      ],
      "metadata": {
        "colab": {
          "base_uri": "https://localhost:8080/"
        },
        "id": "q6fmdusfxAE4",
        "outputId": "f4a83ce0-226e-4379-f602-36b32b4654bb"
      },
      "execution_count": null,
      "outputs": [
        {
          "output_type": "execute_result",
          "data": {
            "text/plain": [
              "Index(['Category', 'Message'], dtype='object')"
            ]
          },
          "metadata": {},
          "execution_count": 26
        }
      ]
    }
  ]
}